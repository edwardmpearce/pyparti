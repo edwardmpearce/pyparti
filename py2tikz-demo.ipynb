{
 "cells": [
  {
   "cell_type": "markdown",
   "metadata": {},
   "source": [
    "# Py2TikZ Demo"
   ]
  },
  {
   "cell_type": "markdown",
   "metadata": {},
   "source": [
    "This notebook demonstrates functions from the `py2tikz.py` module for converting SageMath Partition objects to strings of TikZ code for diagrams."
   ]
  },
  {
   "cell_type": "markdown",
   "metadata": {},
   "source": [
    "## Setup/Imports\n",
    "This module includes the following functions, each returning a string containing TikZ commands for drawing diagrams:\n",
    "* `tikzline(x1, y1, x2, y2, modifier=\"\")` - Draw a line from $(x_{1},y_{1})$ to $(x_{2},y_{2})$, with optional `modifier` string to set draw style\n",
    "* `tikznode(x, y, text, modifier=\"\")` - Draw a node containing the text at $(x,y)$, with optional `modifier` string to set draw style\n",
    "* `partition2tikz(p, x0=0, y0=0, notation='English', label_parts=False)` - Draw the Young diagram of a partition $p$\n",
    "* `label_cell(i, j, text, notation='English')` - Draw a node containing the text at cell $(i,j)$ in a Young diagram. Indices are $0$-based.\n",
    "* `label_diagram(p, label_function, notation='English')` - Label cells $(i,j)$ in Young diagram of $p$ according to `label_function(p,i,j)`\n",
    "* `tikz_ferrers(p, notation = 'English')` - Draw the Ferrers diagram of a partition $p$\n",
    "* `frobenius2tikz(coords, x0=0, y0=0, notation='English', label_parts=False)` - Draw annotated Young diagram from Frobenius coordinates\n",
    "* `label_boundary(seq, col1='blue', col2='orange', notation='English')` - Label and colour partition boundary according to a $0-1$ sequence\n",
    "* `writetikz2tex(tikztext, filename)` - Write TikZ diagram code to a standalone `.tex` file"
   ]
  },
  {
   "cell_type": "code",
   "execution_count": null,
   "metadata": {},
   "outputs": [],
   "source": [
    "from py2tikz import partition2tikz, label_cell, label_diagram, tikz_ferrers, frobenius2tikz, label_boundary, writetikz2tex"
   ]
  },
  {
   "cell_type": "markdown",
   "metadata": {},
   "source": [
    "## Example Usage\n",
    "Below we give some examples of using the functions from the `py2tikz` module to produce strings of TikZ commands, along with the kinds of images they can produce (through combination or further modification)."
   ]
  },
  {
   "cell_type": "code",
   "execution_count": null,
   "metadata": {},
   "outputs": [],
   "source": [
    "p = Partition([6,3,1])\n",
    "print(partition2tikz(p, notation='French', label_parts=True))"
   ]
  },
  {
   "cell_type": "markdown",
   "metadata": {},
   "source": [
    "![](https://edwardmpearce.github.io/tutorial-partitions/img/french_notation.png)"
   ]
  },
  {
   "cell_type": "code",
   "execution_count": null,
   "metadata": {},
   "outputs": [],
   "source": [
    "print(label_boundary([1,0,1,1,0,1,1,1,0], notation='English'))"
   ]
  },
  {
   "cell_type": "markdown",
   "metadata": {},
   "source": [
    "![](https://edwardmpearce.github.io/tutorial-partitions/img/zero_one_sequence.png)"
   ]
  },
  {
   "cell_type": "code",
   "execution_count": null,
   "metadata": {},
   "outputs": [],
   "source": [
    "print(frobenius2tikz(([5,2,1],[4,2,0]),notation='English', label_parts=True))"
   ]
  },
  {
   "cell_type": "markdown",
   "metadata": {},
   "source": [
    "![](https://edwardmpearce.github.io/tutorial-partitions/img/frobenius_coordinates.png)"
   ]
  },
  {
   "cell_type": "markdown",
   "metadata": {},
   "source": [
    "Drawing examples and key non-examples of $2$-core partitions together in a single frame"
   ]
  },
  {
   "cell_type": "code",
   "execution_count": null,
   "metadata": {},
   "outputs": [],
   "source": [
    "hook_len = lambda p, i, j : p.hook_length(i,j)\n",
    "for k in range(1,5):\n",
    "    p = Partition(range(k, 0, -1))\n",
    "    xshift = k*(k+1)/2 - 1\n",
    "    print(\"\\\\begin{{scope}}[xshift={}cm]\".format(xshift))\n",
    "    print(partition2tikz(p))\n",
    "    print(label_diagram(p, hook_len))\n",
    "    print(r\"\\end{scope}\")\n",
    "for p in [[1,1], [2]]:\n",
    "    p = Partition(p)\n",
    "    print(partition2tikz(p))\n",
    "    print(label_diagram(p, hook_len))"
   ]
  },
  {
   "cell_type": "markdown",
   "metadata": {},
   "source": [
    "Drawing key non-examples of $(3,1)$-core partitions"
   ]
  },
  {
   "cell_type": "code",
   "execution_count": null,
   "metadata": {},
   "outputs": [],
   "source": [
    "for p in [[1,1], [3], [4,2]]:\n",
    "    p = Partition(p)\n",
    "    print(partition2tikz(p))\n",
    "    for c in p.cells():\n",
    "        print(label_cell(c[0], c[1], p.upper_hook(c[0],c[1], -1) % 3))"
   ]
  },
  {
   "cell_type": "markdown",
   "metadata": {},
   "source": [
    "### Writing TikZ diagrams to .tex files for compiling into images\n",
    "We calculate a list of all partitions of size $40$ which are $(5,2)$-core partitions, and then systemically produce TikZ code to draw their Young tableau with cells labelled by the quantity $$l(\\square) - 2(a(\\square) + 1) \\pmod 5$$ (all of which will be nonzero by the core criterion). \n",
    "\n",
    "We write the TikZ diagram instructions to .tex files which can subsequently be compiled to .pdf or an image format such as .png for inclusion in research or teaching materials. See [here](https://github.com/edwardmpearce/tikzpictures) for more details on converting TikZ diagram instructions into .png files for portability."
   ]
  },
  {
   "cell_type": "code",
   "execution_count": null,
   "metadata": {},
   "outputs": [],
   "source": [
    "from abacus_extension import PartitionExt\n",
    "import os\n",
    "os.chdir('./texfiles')   # Change current working directory"
   ]
  },
  {
   "cell_type": "code",
   "execution_count": null,
   "metadata": {},
   "outputs": [],
   "source": [
    "big_cores = []\n",
    "for p in Partitions(40):\n",
    "    p = PartitionExt(p)\n",
    "    if p.is_G_core(5,2):\n",
    "        big_cores.append(p)\n",
    "print(len(big_cores))"
   ]
  },
  {
   "cell_type": "code",
   "execution_count": null,
   "metadata": {},
   "outputs": [],
   "source": [
    "label_func = lambda p, i, j : p.upper_hook(i,j, -2) % 5\n",
    "for p in big_cores:\n",
    "    young_diagram = \"\\\\begin{scope}\\n\" + partition2tikz(p) + \"\\n\\\\end{scope}\"\n",
    "    cell_labels = \"\\n\\\\begin{scope}[font=\\\\Large]\\n\" + label_diagram(p, label_func) + \"\\n\\\\end{scope}\"\n",
    "    file_id = f\"5,2-core_size40_{str(p).replace(' ', '')}\" # Give each TikZ diagram a unique, descriptive filename\n",
    "    writetikz2tex(young_diagram + cell_labels, file_id)"
   ]
  },
  {
   "cell_type": "code",
   "execution_count": null,
   "metadata": {},
   "outputs": [],
   "source": []
  }
 ],
 "metadata": {
  "kernelspec": {
   "display_name": "SageMath 9.0",
   "language": "sage",
   "name": "sagemath"
  },
  "language_info": {
   "codemirror_mode": {
    "name": "ipython",
    "version": 3
   },
   "file_extension": ".py",
   "mimetype": "text/x-python",
   "name": "python",
   "nbconvert_exporter": "python",
   "pygments_lexer": "ipython3",
   "version": "3.7.3"
  },
  "toc": {
   "base_numbering": 1,
   "nav_menu": {},
   "number_sections": true,
   "sideBar": true,
   "skip_h1_title": false,
   "title_cell": "Table of Contents",
   "title_sidebar": "Contents",
   "toc_cell": false,
   "toc_position": {},
   "toc_section_display": true,
   "toc_window_display": false
  },
  "varInspector": {
   "cols": {
    "lenName": 16,
    "lenType": 16,
    "lenVar": 40
   },
   "kernels_config": {
    "python": {
     "delete_cmd_postfix": "",
     "delete_cmd_prefix": "del ",
     "library": "var_list.py",
     "varRefreshCmd": "print(var_dic_list())"
    },
    "r": {
     "delete_cmd_postfix": ") ",
     "delete_cmd_prefix": "rm(",
     "library": "var_list.r",
     "varRefreshCmd": "cat(var_dic_list()) "
    }
   },
   "types_to_exclude": [
    "module",
    "function",
    "builtin_function_or_method",
    "instance",
    "_Feature"
   ],
   "window_display": false
  }
 },
 "nbformat": 4,
 "nbformat_minor": 2
}
