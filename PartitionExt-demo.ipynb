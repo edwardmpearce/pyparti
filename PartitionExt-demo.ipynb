{
 "cells": [
  {
   "cell_type": "markdown",
   "metadata": {},
   "source": [
    "# Demonstration of the `PartitionExt` class\n",
    "This notebook provides example code to demonstrate the usage of the `PartitionExt` class, its methods, and related functions defined in the `abacus_extension.py` module. A SageMath notebook kernel is required to use built-in SageMath functionality, such as that provided by the module `sage.combinat.partition`. Check the `README` for installation instructions and documentation."
   ]
  },
  {
   "cell_type": "markdown",
   "metadata": {},
   "source": [
    "## Setup/Imports\n",
    "First, we import the `PartitionExt` class from `abacus_extension.py` along with helper functions for constructing class instances from different data formats.\n",
    "We also import a collecton of functions which perform unit tests from the `tests.py` module."
   ]
  },
  {
   "cell_type": "code",
   "execution_count": 1,
   "metadata": {},
   "outputs": [],
   "source": [
    "from abacus_extension import PartitionExt, from_G_core_and_quotient, from_G_charges_and_quotient, from_G_abacus, invert_zero_one\n",
    "from tests import test_from_G_core_and_quotient, test_from_G_abacus, test_special_core, test_special_quotient"
   ]
  },
  {
   "cell_type": "markdown",
   "metadata": {},
   "source": [
    "## `PartitionExt` methods"
   ]
  },
  {
   "cell_type": "markdown",
   "metadata": {},
   "source": [
    "The `PartitionExt` class defined in `abacus_extension.py` extends the `Partition` class in SageMath with the following methods:\n",
    "    \n",
    "* `G_colour_tableau(r, b=-1)` - Returns tableau of `self` with cells coloured by $(i,j) \\mapsto i + bj \\ (\\mathrm{mod}\\ r)$.\n",
    "* `G_colour_count(r, b=-1)` - Counts the number of cells in `self` of each colour under the $(r,b)$-colouring.\n",
    "* `is_G_core(r, b=-1)` - Checks whether `self` is a G-core with respect to the $(r,b)$-action\n",
    "* `G_core(r, b=-1)` - Returns the G-core partition of `self` with respect to the $(r,b)$-action\n",
    "* `G_quotient(r, b=-1)` - Returns the G-quotient of `self` with respect to the $(r,b)$-action, an $r$-tuple of partitions\n",
    "* `G_abacus(r, b=-1)` - Returns an $r$-tuple of path sequences {1:N, 0:E} corresponding to `self` and the $(r,b)$-action\n",
    "* `G_charges(r, b=-1)` - Returns the charge coordinates of `self` with respect to the $(r,b)$-action, an $r$-tuple of integers\n",
    "    \n",
    "In the default case that only one argument `r` is passed, the action is of type $(r,-1) = (r,r-1)$ which is special linear and \n",
    "yields the same result as the classical `core(r)` and `quotient(r)` methods."
   ]
  },
  {
   "cell_type": "code",
   "execution_count": 2,
   "metadata": {},
   "outputs": [],
   "source": [
    "p = PartitionExt(Partition([5,4]))\n",
    "r, b = (3, 1)"
   ]
  },
  {
   "cell_type": "code",
   "execution_count": 3,
   "metadata": {},
   "outputs": [
    {
     "name": "stdout",
     "output_type": "stream",
     "text": [
      "p = [5, 4], <class 'abacus_extension.PartitionExt'>\n",
      "Is `p` a (3,1)-core? False\n",
      "(3,1)-core-quotient decomposition: core = [2, 1], quotient = ([1, 1], [], [])\n",
      "(3,1)-abacus: [deque([0, 1, 1]), deque([0]), deque([0, 0, 0])]\n",
      "(3,1)-charge coordinates: [-2, 1, 1]\n",
      "(3,1)-colour tableau: [[0, 1, 2, 0, 1], [1, 2, 0, 1]]\n",
      "(3,1)-colour counts: [3, 4, 2]\n"
     ]
    }
   ],
   "source": [
    "print(f\"p = {p}, {type(p)}\")\n",
    "print(f\"Is `p` a ({r},{b})-core? {p.is_G_core(r,b)}\")\n",
    "print(f\"({r},{b})-core-quotient decomposition: core = {p.G_core(r,b)}, quotient = {p.G_quotient(r,b)}\")\n",
    "print(f\"({r},{b})-abacus: {p.G_abacus(r,b)}\")\n",
    "print(f\"({r},{b})-charge coordinates: {p.G_charges(r,b)}\")\n",
    "print(f\"({r},{b})-colour tableau: {p.G_colour_tableau(r,b)}\")\n",
    "print(f\"({r},{b})-colour counts: {p.G_colour_count(r,b)}\")"
   ]
  },
  {
   "cell_type": "code",
   "execution_count": null,
   "metadata": {},
   "outputs": [],
   "source": []
  },
  {
   "cell_type": "markdown",
   "metadata": {},
   "source": [
    "## Unit testing"
   ]
  },
  {
   "cell_type": "markdown",
   "metadata": {},
   "source": [
    "Given a group action defined by parameters $(r,b)$ and a partition $p$, we verify that we can reconstruct $p$ after decomposing it into its $(r,b)$-core and quotient pair, or into its $(r,b)$-abacus representation.\n",
    "Specifically we test the following conditions:\n",
    "``` python\n",
    "p == from_G_core_and_quotient(p.G_core(r,b), p.G_quotient(r,b), r, b)\n",
    "p == from_G_abacus(p.G_abacus(r,b), r, b)\n",
    "```\n",
    "We perform these tests for all partitions of size less than `max_p_size`, \n",
    "and for all nondegenerate actions of a cyclic group $G$ of size $r$ less than `max_r`.<br>\n",
    "That is, for all partitions $p$ such that $0 \\le \\mathrm{size}(p) < \\text{max_p_size}$ and all $0 < r < \\text{max_r}$, $b \\in \\mathbb{Z}_{r}^{\\times}$."
   ]
  },
  {
   "cell_type": "code",
   "execution_count": 4,
   "metadata": {},
   "outputs": [
    {
     "name": "stdout",
     "output_type": "stream",
     "text": [
      "Reconstructing all partitions of size less than 20 from their G-core-quotient decomposition\n",
      "For nondegenerate actions of a cyclic group G of size r up to 9\n",
      "Test passed for r = 1\n",
      "Test passed for r = 2\n",
      "Test passed for r = 3\n",
      "Test passed for r = 4\n",
      "Test passed for r = 5\n",
      "Test passed for r = 6\n",
      "Test passed for r = 7\n",
      "Test passed for r = 8\n",
      "Reconstructing all partitions of size less than 20 from their minimal G-abacus\n",
      "For nondegenerate actions of a cyclic group G of size r up to 9\n",
      "Test passed for r = 1\n",
      "Test passed for r = 2\n",
      "Test passed for r = 3\n",
      "Test passed for r = 4\n",
      "Test passed for r = 5\n",
      "Test passed for r = 6\n",
      "Test passed for r = 7\n",
      "Test passed for r = 8\n"
     ]
    },
    {
     "data": {
      "text/plain": [
       "True"
      ]
     },
     "execution_count": 4,
     "metadata": {},
     "output_type": "execute_result"
    }
   ],
   "source": [
    "test_from_G_core_and_quotient(max_r=9, max_p_size=20) and test_from_G_abacus(max_r=9, max_p_size=20)"
   ]
  },
  {
   "cell_type": "markdown",
   "metadata": {},
   "source": [
    "Next, we test that our generalised implementation of `PartitionExt.G_core(r,b)` coincides with the existing `Partition.core(r)` method when $b \\equiv -1 (\\mathrm{mod}\\ r)$. e.g. when $b = r - 1 \\text{ or } -1$.\n",
    "\n",
    "This should reflect the mathematical fact that the classical $r$-core of a partition (obtained by removing border strips of length $r$) coincides with the generalized $(r,b)$-core in this special case.\n",
    "\n",
    "We perform analogous checks comparing `PartitionExt.G_quotient(r, b=-1)` with `Partition.quotient(r)`.\n",
    "We perform these tests for all partitions of size less than `max_p_size` and values of the modulus $r$ less than `max_r`, whose defaults are $20$ and $15$, respectively.\n",
    "\n",
    "Note that due to differences in conventions effectively swapping xy-coordinates for cell colouring (vs. content), the order of partitions in the $(r,r-1)$-quotient differs from the classical $r$-quotient by a reflection of indices, i.e. the order of the $r$-tuple of partitions is reversed. \n",
    "This can be accounted for by setting the optional `label_swap_xy` keyword argument to `True` when calling the `PartitionExt.G_quotient` method. See the docstrings for `PartitionExt.G_quotient` and `test_special_quotient` for further details."
   ]
  },
  {
   "cell_type": "code",
   "execution_count": 5,
   "metadata": {},
   "outputs": [
    {
     "data": {
      "text/plain": [
       "True"
      ]
     },
     "execution_count": 5,
     "metadata": {},
     "output_type": "execute_result"
    }
   ],
   "source": [
    "test_special_core() and test_special_quotient()"
   ]
  },
  {
   "cell_type": "markdown",
   "metadata": {},
   "source": [
    "## Future Work\n",
    "### Experimental evidence for research questions:\n",
    "- Test that, for any fixed core, increasing quotient size does not decrease partition size (or decreasing quotient size does not increase partition size)\n",
    "- Compare coloured box count coordinates with charge coordinates (should be linear change of variables)\n",
    "\n",
    "### Expand unit testing\n",
    "* Implement `test_from_G_charges_and_quotient` - Tests the bijection between partitions and G-charges-quotient decomposition\n",
    "- Testing that partitions constructed from a valid core and quotient pair or abacus recover their initial data correctly\n",
    "- Expand tests with known small/hand-calculated examples in the unit testing suite?\n",
    "- Improve/expand documentation where unclear (Feedback welcome!)\n",
    "\n",
    "### Implementation details\n",
    "- Consider whether or not to pass r,b as (optional) class attributes so that group action is fixed (if useful to users)\n",
    "- Other user suggestions for features. Please feel free to get in touch."
   ]
  },
  {
   "cell_type": "code",
   "execution_count": null,
   "metadata": {},
   "outputs": [],
   "source": []
  },
  {
   "cell_type": "code",
   "execution_count": null,
   "metadata": {},
   "outputs": [],
   "source": []
  }
 ],
 "metadata": {
  "kernelspec": {
   "display_name": "SageMath 9.0",
   "language": "sage",
   "name": "sagemath"
  },
  "language_info": {
   "codemirror_mode": {
    "name": "ipython",
    "version": 3
   },
   "file_extension": ".py",
   "mimetype": "text/x-python",
   "name": "python",
   "nbconvert_exporter": "python",
   "pygments_lexer": "ipython3",
   "version": "3.7.3"
  },
  "toc": {
   "base_numbering": 1,
   "nav_menu": {},
   "number_sections": true,
   "sideBar": true,
   "skip_h1_title": false,
   "title_cell": "Table of Contents",
   "title_sidebar": "Contents",
   "toc_cell": false,
   "toc_position": {},
   "toc_section_display": true,
   "toc_window_display": false
  },
  "varInspector": {
   "cols": {
    "lenName": 16,
    "lenType": 16,
    "lenVar": 40
   },
   "kernels_config": {
    "python": {
     "delete_cmd_postfix": "",
     "delete_cmd_prefix": "del ",
     "library": "var_list.py",
     "varRefreshCmd": "print(var_dic_list())"
    },
    "r": {
     "delete_cmd_postfix": ") ",
     "delete_cmd_prefix": "rm(",
     "library": "var_list.r",
     "varRefreshCmd": "cat(var_dic_list()) "
    }
   },
   "types_to_exclude": [
    "module",
    "function",
    "builtin_function_or_method",
    "instance",
    "_Feature"
   ],
   "window_display": false
  }
 },
 "nbformat": 4,
 "nbformat_minor": 2
}
