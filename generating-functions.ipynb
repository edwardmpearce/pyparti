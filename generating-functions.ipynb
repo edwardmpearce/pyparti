{
 "cells": [
  {
   "cell_type": "markdown",
   "metadata": {},
   "source": [
    "# SageMath Demonstration: Generating functions of partitions\n",
    "In this notebook, we establish some techniques for computing generating functions of partitions using SageMath and verifying infinite product formulas up to a finite number of terms.\n",
    "\n",
    "See the [documentation](https://doc.sagemath.org/html/en/reference/combinat/sage/combinat/partition.html) of SageMath's `Partition` module for explanations of the methods relating to partitions used for calculations throughout this notebook.\n",
    "\n",
    "See the following resources for an introduction to the theory of ordinary generating functions and partitions:\n",
    "- Wikipedia [article](https://en.wikipedia.org/wiki/Generating_function) on generating functions\n",
    "- Mark Haiman's [notes](https://math.berkeley.edu/~mhaiman/math172-spring10/partitions.pdf) on partitions and their generating functions\n",
    "\n",
    "Further references:\n",
    "- Mike Zabrocki's [ebook](http://garsia.math.yorku.ca/~zabrocki/MMM1/MMM1Intro2OGFs.pdf) introduction to ordinary generating functions and accompanying [website](http://garsia.math.yorku.ca/~zabrocki/MMM1/)\n",
    "- Mike Zabrocki's [lecture notes](http://garsia.math.yorku.ca/~zabrocki/math4160f19/notes/ch4_generating_functions.pdf) on generating functions"
   ]
  },
  {
   "cell_type": "markdown",
   "metadata": {},
   "source": [
    "## Setup/Imports"
   ]
  },
  {
   "cell_type": "code",
   "execution_count": null,
   "metadata": {},
   "outputs": [],
   "source": []
  },
  {
   "cell_type": "markdown",
   "metadata": {},
   "source": [
    "### Configuration\n",
    "\n",
    "We must first declare the power series ring $R = \\mathbb{Z}[[q, t]]$ that contains our generating functions as elements.\n",
    "\n",
    "See the SageMath documentation on [Multivariate Power Series Rings] and [Multivariate Power Series]; and [Power Series Rings] and [Power Series] for more information.\n",
    "\n",
    "[Multivariate Power Series Rings]: https://doc.sagemath.org/html/en/reference/power_series/sage/rings/multi_power_series_ring.html\n",
    "[Multivariate Power Series]: https://doc.sagemath.org/html/en/reference/power_series/sage/rings/multi_power_series_ring_element.html\n",
    "[Power Series Rings]: https://doc.sagemath.org/html/en/reference/power_series/sage/rings/power_series_ring.html\n",
    "[Power Series]: https://doc.sagemath.org/html/en/reference/power_series/sage/rings/power_series_ring_element.html"
   ]
  },
  {
   "cell_type": "code",
   "execution_count": 1,
   "metadata": {},
   "outputs": [],
   "source": [
    "# Precision variable to limit number of terms calculated in power series.\n",
    "PREC = 20 # Feel free to take 100 or more\n",
    "\n",
    "# Declare a power series ring R with integer coefficients over two variables t and q and precision as defined above\n",
    "R.<t,q> = PowerSeriesRing(ZZ, default_prec=PREC)"
   ]
  },
  {
   "cell_type": "markdown",
   "metadata": {},
   "source": [
    "## General structure of generating functions\n",
    "\n",
    "Let $\\mathcal{P}$ denote the set of all integer partitions, and let $\\mathcal{P}(n)$ denote the partitions of size $n$. Let $X$ be a subset of $\\mathcal{P}$ and let $X(n) = X \\cap \\mathcal{P}(n)$.\n",
    "\n",
    "We wish to calculate the generating function $f(q,t)$ over partitions in the set $X$ where the summand is a generic term $T(q,t;\\lambda)$ in two variables $q,t$ which depends on the partition $\\lambda \\in X$.\n",
    "$$f(q,t) = \\sum_{\\lambda \\in X}T(q,t;\\lambda)$$\n",
    "\n",
    "Let $\\varphi_{X} : \\mathcal{P} \\to \\{0,1\\}$ be the characteristic function describing the subset $X \\subset \\mathcal{P}$,\n",
    "so that $\\varphi_{X}(X) = \\{1\\}$, and $\\varphi_{X}(\\mathcal{P} \\setminus X) = \\{0\\}$.\n",
    "\n",
    "The function implemented below calculates a finite approximation $f_{N}$ to the infinite power series/generating function $f$\n",
    "$$f_{N}(q,t) = \\sum_{n=0}^{N}\\sum_{\\lambda \\in X(n)}T(q,t;\\lambda) = \\sum_{n=0}^{N}\\sum_{\\lambda \\in \\mathcal{P}(n)}\\varphi_{X}(\\lambda)T(q,t;\\lambda)$$\n",
    "given the summand expression function $T$, the maximum size $N$ of partitions which contribute to the partial sum, and the condition $\\varphi_{X}$ describing membership of the set $X$."
   ]
  },
  {
   "cell_type": "code",
   "execution_count": 2,
   "metadata": {},
   "outputs": [],
   "source": [
    "def PartitionGenFunc(summand_expr=lambda p : 1, max_size=20, condition=lambda p : True):\n",
    "    r\"\"\"Returns a power series based on a sum over partitions p satisfying a condition, with configurable summand\n",
    "    With the default settings, this will count all partitions of size less than 20.\n",
    "    \"\"\"\n",
    "    return sum(sum(summand_expr(p) for p in Partitions(n) if condition(p)) for n in range(max_size))"
   ]
  },
  {
   "cell_type": "markdown",
   "metadata": {},
   "source": [
    "## Euler product formula for generating function of partition sizes and lengths"
   ]
  },
  {
   "cell_type": "markdown",
   "metadata": {},
   "source": [
    "In the code cell below we calculate the 2D (partial) generating function for partitions\n",
    "$$N \\mapsto f_{N}(q,t) := \\sum_{n = 0}^{N}\\sum_{\\lambda \\in \\mathcal{P}(n)}q^{\\mathrm{size}(\\lambda)}t^{\\mathrm{length}(\\lambda)} \\to\n",
    "f(q,t) = \\sum_{\\lambda \\in \\mathcal{P}}q^{\\mathrm{size}(\\lambda)}t^{\\mathrm{length}(\\lambda)} \\text{ as } N \\to \\infty$$\n",
    "up to the given precision $N = \\verb|PREC|$ directly using Sage's `Partitions` class and methods."
   ]
  },
  {
   "cell_type": "code",
   "execution_count": 3,
   "metadata": {},
   "outputs": [
    {
     "name": "stdout",
     "output_type": "stream",
     "text": [
      "1 + t*q + t*q^2 + t^2*q^2 + t*q^3 + t^2*q^3 + t*q^4 + t^3*q^3 + 2*t^2*q^4 + t*q^5 + t^3*q^4 + 2*t^2*q^5 + t*q^6 + t^4*q^4 + 2*t^3*q^5 + 3*t^2*q^6 + t*q^7 + t^4*q^5 + 3*t^3*q^6 + 3*t^2*q^7 + t*q^8 + t^5*q^5 + 2*t^4*q^6 + 4*t^3*q^7 + 4*t^2*q^8 + t*q^9 + t^5*q^6 + 3*t^4*q^7 + 5*t^3*q^8 + 4*t^2*q^9 + t*q^10 + t^6*q^6 + 2*t^5*q^7 + 5*t^4*q^8 + 7*t^3*q^9 + 5*t^2*q^10 + t*q^11 + t^6*q^7 + 3*t^5*q^8 + 6*t^4*q^9 + 8*t^3*q^10 + 5*t^2*q^11 + t*q^12 + t^7*q^7 + 2*t^6*q^8 + 5*t^5*q^9 + 9*t^4*q^10 + 10*t^3*q^11 + 6*t^2*q^12 + t*q^13 + t^7*q^8 + 3*t^6*q^9 + 7*t^5*q^10 + 11*t^4*q^11 + 12*t^3*q^12 + 6*t^2*q^13 + t*q^14 + t^8*q^8 + 2*t^7*q^9 + 5*t^6*q^10 + 10*t^5*q^11 + 15*t^4*q^12 + 14*t^3*q^13 + 7*t^2*q^14 + t*q^15 + t^8*q^9 + 3*t^7*q^10 + 7*t^6*q^11 + 13*t^5*q^12 + 18*t^4*q^13 + 16*t^3*q^14 + 7*t^2*q^15 + t*q^16 + t^9*q^9 + 2*t^8*q^10 + 5*t^7*q^11 + 11*t^6*q^12 + 18*t^5*q^13 + 23*t^4*q^14 + 19*t^3*q^15 + 8*t^2*q^16 + t*q^17 + t^9*q^10 + 3*t^8*q^11 + 7*t^7*q^12 + 14*t^6*q^13 + 23*t^5*q^14 + 27*t^4*q^15 + 21*t^3*q^16 + 8*t^2*q^17 + t*q^18 + t^10*q^10 + 2*t^9*q^11 + 5*t^8*q^12 + 11*t^7*q^13 + 20*t^6*q^14 + 30*t^5*q^15 + 34*t^4*q^16 + 24*t^3*q^17 + 9*t^2*q^18 + t*q^19 + t^10*q^11 + 3*t^9*q^12 + 7*t^8*q^13 + 15*t^7*q^14 + 26*t^6*q^15 + 37*t^5*q^16 + 39*t^4*q^17 + 27*t^3*q^18 + 9*t^2*q^19 + t^11*q^11 + 2*t^10*q^12 + 5*t^9*q^13 + 11*t^8*q^14 + 21*t^7*q^15 + 35*t^6*q^16 + 47*t^5*q^17 + 47*t^4*q^18 + 30*t^3*q^19 + t^11*q^12 + 3*t^10*q^13 + 7*t^9*q^14 + 15*t^8*q^15 + 28*t^7*q^16 + 44*t^6*q^17 + 57*t^5*q^18 + 54*t^4*q^19 + t^12*q^12 + 2*t^11*q^13 + 5*t^10*q^14 + 11*t^9*q^15 + 22*t^8*q^16 + 38*t^7*q^17 + 58*t^6*q^18 + 70*t^5*q^19 + t^12*q^13 + 3*t^11*q^14 + 7*t^10*q^15 + 15*t^9*q^16 + 29*t^8*q^17 + 49*t^7*q^18 + 71*t^6*q^19 + t^13*q^13 + 2*t^12*q^14 + 5*t^11*q^15 + 11*t^10*q^16 + 22*t^9*q^17 + 40*t^8*q^18 + 65*t^7*q^19 + t^13*q^14 + 3*t^12*q^15 + 7*t^11*q^16 + 15*t^10*q^17 + 30*t^9*q^18 + 52*t^8*q^19 + t^14*q^14 + 2*t^13*q^15 + 5*t^12*q^16 + 11*t^11*q^17 + 22*t^10*q^18 + 41*t^9*q^19 + t^14*q^15 + 3*t^13*q^16 + 7*t^12*q^17 + 15*t^11*q^18 + 30*t^10*q^19 + t^15*q^15 + 2*t^14*q^16 + 5*t^13*q^17 + 11*t^12*q^18 + 22*t^11*q^19 + t^15*q^16 + 3*t^14*q^17 + 7*t^13*q^18 + 15*t^12*q^19 + t^16*q^16 + 2*t^15*q^17 + 5*t^14*q^18 + 11*t^13*q^19 + t^16*q^17 + 3*t^15*q^18 + 7*t^14*q^19 + t^17*q^17 + 2*t^16*q^18 + 5*t^15*q^19 + t^17*q^18 + 3*t^16*q^19 + t^18*q^18 + 2*t^17*q^19 + t^18*q^19 + t^19*q^19\n"
     ]
    }
   ],
   "source": [
    "partitions_genfunc = lambda max_size : sum(sum(q^n * t^len(p) for p in Partitions(n)) for n in range(max_size))\n",
    "print(partitions_genfunc(PREC))"
   ]
  },
  {
   "cell_type": "markdown",
   "metadata": {},
   "source": [
    "In the code cell below we calculate the same generating function using the Euler product formula where each factor counts the number of parts of size $i$ in any given partition\n",
    "$$N \\mapsto g_{N}(q,t) = \\prod_{i=0}^{N}\\frac{1}{1-tq^{i}} \\to \\prod_{i=0}^{\\infty}\\frac{1}{1-tq^{i}} = f(q,t) \\text{ as } N \\to \\infty$$"
   ]
  },
  {
   "cell_type": "code",
   "execution_count": 4,
   "metadata": {},
   "outputs": [
    {
     "name": "stdout",
     "output_type": "stream",
     "text": [
      "1 + t*q + t*q^2 + t^2*q^2 + t*q^3 + t^2*q^3 + t*q^4 + t^3*q^3 + 2*t^2*q^4 + t*q^5 + t^3*q^4 + 2*t^2*q^5 + t*q^6 + t^4*q^4 + 2*t^3*q^5 + 3*t^2*q^6 + t*q^7 + t^4*q^5 + 3*t^3*q^6 + 3*t^2*q^7 + t*q^8 + t^5*q^5 + 2*t^4*q^6 + 4*t^3*q^7 + 4*t^2*q^8 + t*q^9 + t^5*q^6 + 3*t^4*q^7 + 5*t^3*q^8 + 4*t^2*q^9 + t*q^10 + t^6*q^6 + 2*t^5*q^7 + 5*t^4*q^8 + 7*t^3*q^9 + 5*t^2*q^10 + t*q^11 + t^6*q^7 + 3*t^5*q^8 + 6*t^4*q^9 + 8*t^3*q^10 + 5*t^2*q^11 + t*q^12 + t^7*q^7 + 2*t^6*q^8 + 5*t^5*q^9 + 9*t^4*q^10 + 10*t^3*q^11 + 6*t^2*q^12 + t*q^13 + t^7*q^8 + 3*t^6*q^9 + 7*t^5*q^10 + 11*t^4*q^11 + 12*t^3*q^12 + 6*t^2*q^13 + t*q^14 + t^8*q^8 + 2*t^7*q^9 + 5*t^6*q^10 + 10*t^5*q^11 + 15*t^4*q^12 + 14*t^3*q^13 + 7*t^2*q^14 + t*q^15 + t^8*q^9 + 3*t^7*q^10 + 7*t^6*q^11 + 13*t^5*q^12 + 18*t^4*q^13 + 16*t^3*q^14 + 7*t^2*q^15 + t*q^16 + t^9*q^9 + 2*t^8*q^10 + 5*t^7*q^11 + 11*t^6*q^12 + 18*t^5*q^13 + 23*t^4*q^14 + 19*t^3*q^15 + 8*t^2*q^16 + t*q^17 + t^9*q^10 + 3*t^8*q^11 + 7*t^7*q^12 + 14*t^6*q^13 + 23*t^5*q^14 + 27*t^4*q^15 + 21*t^3*q^16 + 8*t^2*q^17 + t*q^18 + O(t, q)^20\n"
     ]
    }
   ],
   "source": [
    "eulerprod = lambda max_part_size : prod(1/(1 - t*q^i) for i in range(1,max_part_size))\n",
    "print(eulerprod(PREC))"
   ]
  },
  {
   "cell_type": "markdown",
   "metadata": {},
   "source": [
    "Now we verify that $f_{N}$ and $g_{N}$ agree for all terms of total degree up to `PREC`"
   ]
  },
  {
   "cell_type": "code",
   "execution_count": 5,
   "metadata": {},
   "outputs": [
    {
     "name": "stdout",
     "output_type": "stream",
     "text": [
      "True\n"
     ]
    }
   ],
   "source": [
    "# Compare these two power series up to the specified precision\n",
    "print(partitions_genfunc(PREC) == eulerprod(PREC))"
   ]
  },
  {
   "cell_type": "markdown",
   "metadata": {},
   "source": [
    "## Core partition generating functions"
   ]
  },
  {
   "cell_type": "markdown",
   "metadata": {},
   "source": [
    "We introduce a function on partitions called the $(k,r)$-weighted hook count\n",
    "$$\\lambda \\mapsto |\\{\\square \\in \\lambda : l(\\square) + k(a(\\square) + 1) \\equiv 0 \\mod r\\}| =: \\mathrm{WHC_{k,r}}(\\lambda)$$\n",
    "which we calculate using the [upper hook](https://doc.sagemath.org/html/en/reference/combinat/sage/combinat/partition.html#sage.combinat.partition.Partition.upper_hook) method of SageMath's `Partition` class.\n",
    "\n",
    "[Click here](https://edwardmpearce.github.io/tutorial-partitions/intro/visualization/#table-of-functions) for a description (with illustrations) of various functions on cells in a partition."
   ]
  },
  {
   "cell_type": "code",
   "execution_count": 6,
   "metadata": {},
   "outputs": [],
   "source": [
    "def WeightedHookCount(p,k,r):\n",
    "    \"\"\"For a partition p and parameters k and r, we count the number of cells c in p for which leg(c) + k * (arm(c) + 1) = 0 (mod r)\"\"\"\n",
    "    return sum(p.upper_hook(c[0],c[1], k) % r == 0 for c in p.cells())"
   ]
  },
  {
   "cell_type": "markdown",
   "metadata": {},
   "source": [
    "In the code cell below we calculate a 2D (partial) generating function over partitions where the $q$ exponent indicates partition size and the $t$ component indicates the $(k,r)$-weighted hook count\n",
    "$$(k,r,N) \\mapsto \\sum_{n = 0}^{N}\\sum_{\\lambda \\in \\mathcal{P}(n)}q^{\\mathrm{size}(\\lambda)}t^{\\mathrm{WHC_{k,r}}(\\lambda)}$$"
   ]
  },
  {
   "cell_type": "code",
   "execution_count": 7,
   "metadata": {},
   "outputs": [
    {
     "name": "stdout",
     "output_type": "stream",
     "text": [
      "1 + q + q^2 + t*q^2 + 2*q^3 + t*q^3 + 2*q^4 + 2*t*q^4 + 2*q^5 + t^2*q^4 + 4*t*q^5 + 3*q^6 + t^2*q^5 + 5*t*q^6 + 3*q^7 + 2*t^2*q^6 + 6*t*q^7 + 3*q^8 + t^3*q^6 + 5*t^2*q^7 + 9*t*q^8 + 4*q^9 + t^3*q^7 + 7*t^2*q^8 + 10*t*q^9 + 4*q^10 + 2*t^3*q^8 + 10*t^2*q^9 + 11*t*q^10 + 4*q^11 + t^4*q^8 + 5*t^3*q^9 + 17*t^2*q^10 + 14*t*q^11 + 5*q^12 + t^4*q^9 + 7*t^3*q^10 + 21*t^2*q^11 + 15*t*q^12 + 5*q^13 + 2*t^4*q^10 + 11*t^3*q^11 + 26*t^2*q^12 + 16*t*q^13 + 5*q^14 + t^5*q^10 + 5*t^4*q^11 + 21*t^3*q^12 + 35*t^2*q^13 + 19*t*q^14 + 6*q^15 + t^5*q^11 + 7*t^4*q^12 + 28*t^3*q^13 + 40*t^2*q^14 + 20*t*q^15 + 6*q^16 + 2*t^5*q^12 + 11*t^4*q^13 + 39*t^3*q^14 + 45*t^2*q^15 + 21*t*q^16 + 6*q^17 + t^6*q^12 + 5*t^5*q^13 + 22*t^4*q^14 + 58*t^3*q^15 + 55*t^2*q^16 + 24*t*q^17 + 7*q^18 + t^6*q^13 + 7*t^5*q^14 + 30*t^4*q^15 + 72*t^3*q^16 + 60*t^2*q^17 + 25*t*q^18 + 7*q^19 + 2*t^6*q^14 + 11*t^5*q^15 + 45*t^4*q^16 + 88*t^3*q^17 + 65*t^2*q^18 + 26*t*q^19 + t^7*q^14 + 5*t^6*q^15 + 22*t^5*q^16 + 72*t^4*q^17 + 114*t^3*q^18 + 75*t^2*q^19 + t^7*q^15 + 7*t^6*q^16 + 30*t^5*q^17 + 96*t^4*q^18 + 131*t^3*q^19 + 2*t^7*q^16 + 11*t^6*q^17 + 46*t^5*q^18 + 128*t^4*q^19 + t^8*q^16 + 5*t^7*q^17 + 22*t^6*q^18 + 76*t^5*q^19 + t^8*q^17 + 7*t^7*q^18 + 30*t^6*q^19 + 2*t^8*q^18 + 11*t^7*q^19 + t^9*q^18 + 5*t^8*q^19 + t^9*q^19\n"
     ]
    }
   ],
   "source": [
    "# 2D generating function for partitions (up to given precision) where q exponent indicates partition size\n",
    "# and t component indicates the (k,r)-weighted hook count |{c in p : leg(c) + k * (arm(c) + 1) = 0 (mod r)}|\n",
    "WHC_genfunc = lambda k, r, max_size : sum(sum(q^n * t^WeightedHookCount(p,k,r) for p in Partitions(n)) for n in range(max_size))\n",
    "print(WHC_genfunc(-1, 5, PREC))"
   ]
  },
  {
   "cell_type": "markdown",
   "metadata": {},
   "source": [
    "Define a (k,r)-core partition to be a partition $\\lambda$ which has (k,r)-weighted hook count equal to zero.\n",
    "That is, $\\mathrm{WHC_{k,r}}(\\lambda) = |\\{\\square \\in \\lambda : l(\\square) + k(a(\\square) + 1) \\equiv 0 \\mod r\\}| = 0$.\n",
    "\n",
    "The code below calculates the generating function for $(k,r)$-core partitions up to a given size $N$.\n",
    "$$(k,r,N) \\mapsto = \\sum_{n = 0}^{N}|\\mathcal{C}_{k,r}(n)|q^{n}$$"
   ]
  },
  {
   "cell_type": "code",
   "execution_count": 8,
   "metadata": {},
   "outputs": [],
   "source": [
    "# Generating function for the number of (k,r)-core partitions of a given size (i.e. partitions which have (k,r)-weighted hook count equal to zero)\n",
    "krcore_genfunc = lambda k, r, max_size : sum(sum(q^n for p in Partitions(n) if WeightedHookCount(p,k,r) == 0) for n in range(max_size))"
   ]
  },
  {
   "cell_type": "markdown",
   "metadata": {},
   "source": [
    "Below we examine the $(k,r)$-core generating functions for particular choices of the parameters $(k,r)$.\n",
    "\n",
    "In particular, we observe evidence that \n",
    "$$\\sum_{n = 0}^{\\infty}|\\mathcal{C}_{1,2}(n)|q^{n} = \\sum_{k = 0}^{\\infty}q^{k(k+1)/2} = 1 + q + q^{3} + q^{6} + q^{10} + q^{15} + \\ldots$$\n",
    "$$\\sum_{n = 0}^{\\infty}|\\mathcal{C}_{2,3}(n)|q^{n} = \\frac{1}{1-q} = \\sum_{n = 0}^{\\infty}q^{n}\n",
    " = 1 + q + q^{2} + q^{3} + q^{4} + q^{5} + \\ldots$$\n",
    "$$\\sum_{n = 0}^{\\infty}|\\mathcal{C}_{2,5}(n)|q^{n} = \\frac{1}{1-q}\\ \\cdot \\frac{1}{1-q^{2}} = (1+q)\\sum_{n = 0}^{\\infty}(n+1)q^{2n}\n",
    " = 1 + q + 2q^{2} + 2q^{3} + 3q^{4} + 3q^{5} + \\ldots$$"
   ]
  },
  {
   "cell_type": "code",
   "execution_count": 9,
   "metadata": {},
   "outputs": [
    {
     "data": {
      "text/plain": [
       "1 + q + q^3 + q^6 + q^10 + q^15"
      ]
     },
     "execution_count": 9,
     "metadata": {},
     "output_type": "execute_result"
    }
   ],
   "source": [
    "twocores_genfunc = krcore_genfunc(1,2, PREC)\n",
    "twocores_genfunc"
   ]
  },
  {
   "cell_type": "code",
   "execution_count": 10,
   "metadata": {},
   "outputs": [
    {
     "name": "stdout",
     "output_type": "stream",
     "text": [
      "1 + q + q^2 + q^3 + q^4 + q^5 + q^6 + q^7 + q^8 + q^9 + q^10 + q^11 + q^12 + q^13 + q^14 + q^15 + q^16 + q^17 + q^18 + q^19\n",
      "1 - q + O(t, q)^20\n",
      "0\n",
      "1 - q^20\n"
     ]
    }
   ],
   "source": [
    "# Calculate the generating function for (2,3)-core partitions up to the specified precision\n",
    "twothreecores_genfunc = krcore_genfunc(2,3, PREC)\n",
    "# Examine our particular generating function and notice a pattern in the terms\n",
    "print(twothreecores_genfunc)\n",
    "# Experimentally check that the generating function is equal to \\sum_{i=0}^{\\infty}q^{i} = 1/(1-q)\n",
    "print(twothreecores_genfunc^-1)\n",
    "print(twothreecores_genfunc - sum(q^n for n in range(PREC)))\n",
    "print(twothreecores_genfunc * (1-q)) # Equal to 1 up to precision"
   ]
  },
  {
   "cell_type": "code",
   "execution_count": 11,
   "metadata": {},
   "outputs": [
    {
     "name": "stdout",
     "output_type": "stream",
     "text": [
      "1 + q + 2*q^2 + 2*q^3 + 3*q^4 + 3*q^5 + 4*q^6 + 4*q^7 + 5*q^8 + 5*q^9 + 6*q^10 + 6*q^11 + 7*q^12 + 7*q^13 + 8*q^14 + 8*q^15 + 9*q^16 + 9*q^17 + 10*q^18 + 10*q^19\n",
      "1 - q - q^2 + q^3 + O(t, q)^20\n",
      "0\n",
      "1 - 11*q^20 + 10*q^22\n"
     ]
    }
   ],
   "source": [
    "# Calculate the generating function for (2,5)-core partitions up to the specified precision\n",
    "twofivecores_genfunc = krcore_genfunc(2,5, PREC)\n",
    "# Examine our particular generating function and notice a pattern in the terms\n",
    "print(twofivecores_genfunc)\n",
    "# Experimentally check that the generating function is equal to (1 + q)\\sum_{i=0}^{\\infty}(i+1)q^{2i} = (1 + q)/(1 - q^2)^2 = 1/((1-q)(1-q^2))\n",
    "print(twofivecores_genfunc^-1)\n",
    "print(twofivecores_genfunc - (1+q) * sum((i+1)*q^(2*i) for i in range(PREC // 2)))\n",
    "print(twofivecores_genfunc * (1-q)*(1-q^2)) # Equal to 1 up to precision"
   ]
  },
  {
   "cell_type": "markdown",
   "metadata": {},
   "source": [
    "### Other modified hook residues\n",
    "\n",
    "The following series of calculations are based on the question posed [here](https://ptwiddle.github.io/Partitions-Lab/LaTeX/Introduction.pdf).\n",
    "\n",
    "For $k=0,1,2$ we calculate an initial number of terms for the generating functions\n",
    "$$\\mathcal{G}_{k}(q,t) := \\sum_{\\lambda \\in \\mathcal{P}}q^{|\\lambda|}t^{d_{k}(\\lambda)}$$\n",
    "where $d_{k}(\\lambda) = |\\{\\square \\in \\lambda : l(\\square) - a(\\square) - 1 \\equiv k - 1 \\mod 3\\}|$\n",
    "\n",
    "Note that $\\mathcal{G}_{1} = \\mathcal{G}_{2}$ because $d_{-k}(\\lambda) = d_{k}(\\mathrm{conjugate}(\\lambda))$ where the index $k$ is taken modulo $3$, and conjugation is an involution (in particular, a bijection) on the set $\\mathcal{P}$ of partitions."
   ]
  },
  {
   "cell_type": "code",
   "execution_count": 12,
   "metadata": {},
   "outputs": [],
   "source": [
    "# Note: Inefficient use of loops, should combine into a single loop\n",
    "G1 = PartitionGenFunc(summand_expr=lambda p : q^p.size() * t^sum(p.upper_hook(c[0],c[1], -1) % 3 == 0 for c in p.cells()), max_size=30)\n",
    "G2 = PartitionGenFunc(summand_expr=lambda p : q^p.size() * t^sum(p.upper_hook(c[0],c[1], -1) % 3 == 1 for c in p.cells()), max_size=30)\n",
    "G0 = PartitionGenFunc(summand_expr=lambda p : q^p.size() * t^sum(p.upper_hook(c[0],c[1], -1) % 3 == 2 for c in p.cells()), max_size=30)"
   ]
  },
  {
   "cell_type": "code",
   "execution_count": 13,
   "metadata": {},
   "outputs": [
    {
     "name": "stdout",
     "output_type": "stream",
     "text": [
      "1 + q + q^2 + t*q^2 + q^3 + 2*t*q^3 + q^4 + 3*t*q^4 + q^5 + t^2*q^4 + 3*t*q^5 + q^6 + 3*t^2*q^5 + 3*t*q^6 + q^7 + 6*t^2*q^6 + 3*t*q^7 + q^8 + t^3*q^6 + 8*t^2*q^7 + 3*t*q^8 + q^9 + 3*t^3*q^7 + 9*t^2*q^8 + 3*t*q^9 + q^10 + 8*t^3*q^8 + 9*t^2*q^9 + 3*t*q^10 + q^11 + t^4*q^8 + 14*t^3*q^9 + 9*t^2*q^10 + 3*t*q^11 + q^12 + 3*t^4*q^9 + 19*t^3*q^10 + 9*t^2*q^11 + 3*t*q^12 + q^13 + 9*t^4*q^10 + 21*t^3*q^11 + 9*t^2*q^12 + 3*t*q^13 + q^14 + t^5*q^10 + 19*t^4*q^11 + 22*t^3*q^12 + 9*t^2*q^13 + 3*t*q^14 + q^15 + 3*t^5*q^11 + 32*t^4*q^12 + 22*t^3*q^13 + 9*t^2*q^14 + 3*t*q^15 + q^16 + 9*t^5*q^12 + 42*t^4*q^13 + 22*t^3*q^14 + 9*t^2*q^15 + 3*t*q^16 + q^17 + t^6*q^12 + 21*t^5*q^13 + 48*t^4*q^14 + 22*t^3*q^15 + 9*t^2*q^16 + 3*t*q^17 + q^18 + 3*t^6*q^13 + 42*t^5*q^14 + 50*t^4*q^15 + 22*t^3*q^16 + 9*t^2*q^17 + 3*t*q^18 + q^19 + 9*t^6*q^14 + 66*t^5*q^15 + 51*t^4*q^16 + 22*t^3*q^17 + 9*t^2*q^18 + 3*t*q^19 + q^20 + t^7*q^14 + 22*t^6*q^15 + 87*t^5*q^16 + 51*t^4*q^17 + 22*t^3*q^18 + 9*t^2*q^19 + 3*t*q^20 + q^21 + 3*t^7*q^15 + 48*t^6*q^16 + 99*t^5*q^17 + 51*t^4*q^18 + 22*t^3*q^19 + 9*t^2*q^20 + 3*t*q^21 + q^22 + 9*t^7*q^16 + 87*t^6*q^17 + 105*t^5*q^18 + 51*t^4*q^19 + 22*t^3*q^20 + 9*t^2*q^21 + 3*t*q^22 + q^23 + t^8*q^16 + 22*t^7*q^17 + 134*t^6*q^18 + 107*t^5*q^19 + 51*t^4*q^20 + 22*t^3*q^21 + 9*t^2*q^22 + 3*t*q^23 + q^24 + 3*t^8*q^17 + 50*t^7*q^18 + 173*t^6*q^19 + 108*t^5*q^20 + 51*t^4*q^21 + 22*t^3*q^22 + 9*t^2*q^23 + 3*t*q^24 + q^25 + 9*t^8*q^18 + 99*t^7*q^19 + 199*t^6*q^20 + 108*t^5*q^21 + 51*t^4*q^22 + 22*t^3*q^23 + 9*t^2*q^24 + 3*t*q^25 + q^26 + t^9*q^18 + 22*t^8*q^19 + 173*t^7*q^20 + 212*t^6*q^21 + 108*t^5*q^22 + 51*t^4*q^23 + 22*t^3*q^24 + 9*t^2*q^25 + 3*t*q^26 + q^27 + 3*t^9*q^19 + 51*t^8*q^20 + 256*t^7*q^21 + 218*t^6*q^22 + 108*t^5*q^23 + 51*t^4*q^24 + 22*t^3*q^25 + 9*t^2*q^26 + 3*t*q^27 + q^28 + 9*t^9*q^20 + 105*t^8*q^21 + 330*t^7*q^22 + 220*t^6*q^23 + 108*t^5*q^24 + 51*t^4*q^25 + 22*t^3*q^26 + 9*t^2*q^27 + 3*t*q^28 + q^29 + t^10*q^20 + 22*t^9*q^21 + 199*t^8*q^22 + 379*t^7*q^23 + 221*t^6*q^24 + 108*t^5*q^25 + 51*t^4*q^26 + 22*t^3*q^27 + 9*t^2*q^28 + 3*t*q^29 + 3*t^10*q^21 + 51*t^9*q^22 + 330*t^8*q^23 + 407*t^7*q^24 + 221*t^6*q^25 + 108*t^5*q^26 + 51*t^4*q^27 + 22*t^3*q^28 + 9*t^2*q^29 + 9*t^10*q^22 + 107*t^9*q^23 + 480*t^8*q^24 + 420*t^7*q^25 + 221*t^6*q^26 + 108*t^5*q^27 + 51*t^4*q^28 + 22*t^3*q^29 + t^11*q^22 + 22*t^10*q^23 + 212*t^9*q^24 + 611*t^8*q^25 + 426*t^7*q^26 + 221*t^6*q^27 + 108*t^5*q^28 + 51*t^4*q^29 + 3*t^11*q^23 + 51*t^10*q^24 + 379*t^9*q^25 + 705*t^8*q^26 + 428*t^7*q^27 + 221*t^6*q^28 + 108*t^5*q^29 + 9*t^11*q^24 + 108*t^10*q^25 + 611*t^9*q^26 + 759*t^8*q^27 + 429*t^7*q^28 + 221*t^6*q^29 + t^12*q^24 + 22*t^11*q^25 + 218*t^10*q^26 + 868*t^9*q^27 + 788*t^8*q^28 + 429*t^7*q^29 + 3*t^12*q^25 + 51*t^11*q^26 + 407*t^10*q^27 + 1100*t^9*q^28 + 801*t^8*q^29 + 9*t^12*q^26 + 108*t^11*q^27 + 705*t^10*q^28 + 1267*t^9*q^29 + t^13*q^26 + 22*t^12*q^27 + 220*t^11*q^28 + 1100*t^10*q^29 + 3*t^13*q^27 + 51*t^12*q^28 + 420*t^11*q^29 + 9*t^13*q^28 + 108*t^12*q^29 + t^14*q^28 + 22*t^13*q^29 + 3*t^14*q^29\n",
      "True\n",
      "1 + t*q + 2*t*q^2 + 2*t*q^3 + t^3*q^3 + 5*t^2*q^4 + 4*t^2*q^5 + 3*t^3*q^5 + 8*t^2*q^6 + 2*t^4*q^6 + 11*t^3*q^7 + 4*t^4*q^7 + 10*t^3*q^8 + t^6*q^6 + 12*t^4*q^8 + 19*t^3*q^9 + 5*t^5*q^9 + 33*t^4*q^10 + 4*t^6*q^9 + 8*t^5*q^10 + 24*t^4*q^11 + 2*t^7*q^9 + 27*t^5*q^11 + 44*t^4*q^12 + 5*t^7*q^11 + 20*t^6*q^12 + 69*t^5*q^13 + 8*t^7*q^12 + 20*t^6*q^13 + 60*t^5*q^14 + t^10*q^10 + 5*t^8*q^12 + 10*t^7*q^13 + 60*t^6*q^14 + 90*t^5*q^15 + 10*t^8*q^14 + 55*t^7*q^15 + 160*t^6*q^16 + 20*t^8*q^15 + 40*t^7*q^16 + 122*t^6*q^17 + 2*t^11*q^13 + 5*t^10*q^14 + 10*t^9*q^15 + 20*t^8*q^16 + 125*t^7*q^17 + 184*t^6*q^18 + 40*t^9*q^17 + 119*t^8*q^18 + 323*t^7*q^19 + 6*t^11*q^16 + 60*t^9*q^18 + 80*t^8*q^19 + 248*t^7*q^20 + 5*t^12*q^16 + 10*t^11*q^17 + 20*t^10*q^18 + 50*t^9*q^19 + 268*t^8*q^20 + 357*t^7*q^21 + t^15*q^15 + 15*t^11*q^19 + 80*t^10*q^20 + 249*t^9*q^21 + 635*t^8*q^22 + 12*t^12*q^19 + 120*t^10*q^21 + 180*t^9*q^22 + 468*t^8*q^23 + 10*t^13*q^19 + 25*t^12*q^20 + 60*t^11*q^21 + 100*t^10*q^22 + 529*t^9*q^23 + 678*t^8*q^24 + 2*t^16*q^18 + 30*t^12*q^22 + 175*t^11*q^23 + 484*t^10*q^24 + 1186*t^9*q^25 + 6*t^15*q^20 + 30*t^13*q^22 + 250*t^11*q^24 + 352*t^10*q^25 + 868*t^9*q^26 + 20*t^14*q^22 + 71*t^13*q^23 + 151*t^12*q^24 + 200*t^11*q^25 + 1045*t^10*q^26 + 1238*t^9*q^27 + 5*t^17*q^21 + 7*t^16*q^22 + 110*t^13*q^25 + 330*t^12*q^26 + 899*t^11*q^27 + 2210*t^10*q^28 + 12*t^16*q^23 + 60*t^14*q^25 + 532*t^12*q^27 + 672*t^11*q^28 + 1550*t^10*q^29 + 36*t^15*q^25 + 142*t^14*q^26 + 309*t^13*q^27 + 360*t^12*q^28 + 1925*t^11*q^29 + t^21*q^21 + 10*t^18*q^24 + 14*t^17*q^25 + 21*t^16*q^26 + 220*t^14*q^28 + 695*t^13*q^29 + 30*t^17*q^26 + 120*t^15*q^28 + 100*t^16*q^28 + 285*t^15*q^29 + 2*t^22*q^24 + 20*t^19*q^27 + 35*t^18*q^28 + 42*t^17*q^29 + 60*t^18*q^29 + 7*t^21*q^27 + 5*t^23*q^27 + 8*t^22*q^29 + t^28*q^28\n"
     ]
    }
   ],
   "source": [
    "print(G1)\n",
    "print(G1 == G2)\n",
    "print(G0)"
   ]
  },
  {
   "cell_type": "code",
   "execution_count": 14,
   "metadata": {},
   "outputs": [
    {
     "name": "stdout",
     "output_type": "stream",
     "text": [
      "1 - q - t*q^2 + t*q^5 + t^3*q^7 - t^3*q^12 + O(t, q)^20\n"
     ]
    }
   ],
   "source": [
    "print(G1^-1)"
   ]
  },
  {
   "cell_type": "code",
   "execution_count": 15,
   "metadata": {},
   "outputs": [
    {
     "data": {
      "text/plain": [
       "t*q^2 + 2*t*q^3 + t^2*q^4 + 3*t^2*q^5 + 6*t^2*q^6 + t^3*q^6 + 8*t^2*q^7 + 3*t^3*q^7 + 9*t^2*q^8 + 8*t^3*q^8 + 9*t^2*q^9 + t^4*q^8 + 14*t^3*q^9 + 9*t^2*q^10 + 3*t^4*q^9 + 19*t^3*q^10 + 9*t^2*q^11 + 9*t^4*q^10 + 21*t^3*q^11 + 9*t^2*q^12 + t^5*q^10 + 19*t^4*q^11 + 22*t^3*q^12 + 9*t^2*q^13 + 3*t^5*q^11 + 32*t^4*q^12 + 22*t^3*q^13 + 9*t^2*q^14 + 9*t^5*q^12 + 42*t^4*q^13 + 22*t^3*q^14 + 9*t^2*q^15 + t^6*q^12 + 21*t^5*q^13 + 48*t^4*q^14 + 22*t^3*q^15 + 9*t^2*q^16 + 3*t^6*q^13 + 42*t^5*q^14 + 50*t^4*q^15 + 22*t^3*q^16 + 9*t^2*q^17 + O(t, q)^20"
      ]
     },
     "execution_count": 15,
     "metadata": {},
     "output_type": "execute_result"
    }
   ],
   "source": [
    "G1 - (1+3*t*q^4)/(1-q)"
   ]
  },
  {
   "cell_type": "code",
   "execution_count": null,
   "metadata": {},
   "outputs": [],
   "source": []
  }
 ],
 "metadata": {
  "kernelspec": {
   "display_name": "SageMath 9.0",
   "language": "sage",
   "name": "sagemath"
  },
  "language_info": {
   "codemirror_mode": {
    "name": "ipython",
    "version": 3
   },
   "file_extension": ".py",
   "mimetype": "text/x-python",
   "name": "python",
   "nbconvert_exporter": "python",
   "pygments_lexer": "ipython3",
   "version": "3.7.3"
  }
 },
 "nbformat": 4,
 "nbformat_minor": 4
}
