{
 "cells": [
  {
   "cell_type": "markdown",
   "metadata": {},
   "source": [
    "# Partitions Notebook"
   ]
  },
  {
   "cell_type": "markdown",
   "metadata": {},
   "source": [
    "Used for experimenting with SageMath's `partition.py` module. ([Documentation](https://doc.sagemath.org/html/en/reference/combinat/sage/combinat/partition.html), [Source Code](https://github.com/sagemath/sage/blob/master/src/sage/combinat/partition.py))"
   ]
  },
  {
   "cell_type": "markdown",
   "metadata": {},
   "source": [
    "## The `Partition` Class - individual partitions\n",
    "\n",
    "An instance of the `Partition` class can be constructed in one of the following ways:\n",
    "- list of parts (the default) - e.g. `Partition([6,3,1])`\n",
    "- `'exp'` keyword argument - exponential notation\n",
    "- `'frobenius_coordinates'` keyword argument\n",
    "- `'zero_one'` keyword argument - 0−1 sequence \n",
    "- `'core'` and `'quotient'` keyword argument\n",
    "- `'beta_numbers'`\n",
    "\n",
    "`Partition` instances constructed in this way will be elements of the category of all partitions (no restrictions)"
   ]
  },
  {
   "cell_type": "code",
   "execution_count": null,
   "metadata": {},
   "outputs": [],
   "source": [
    "# If we create a partition with extra zeros at the end, they will be dropped:\n",
    "Partition([4,1,0,0]) # [4,1]\n",
    "\n",
    "# The idea of a partition being followed by infinitely many parts of size 0 is consistent with the get_part method:\n",
    "p = Partition([5, 2])\n",
    "p.get_part(0) # 5\n",
    "p.get_part(10) # 0\n",
    "\n",
    "# We can go back and forth between the standard and the exponential notations of a partition. \n",
    "# The exponential notation can be padded with extra zeros:\n",
    "Partition([6,4,4,2,1]).to_exp() # [1, 1, 0, 2, 0, 1]\n",
    "Partition(exp=[1,1,0,2,0,1]) # [6, 4, 4, 2, 1]\n",
    "Partition([6,4,4,2,1]).to_exp(5) # [1, 1, 0, 2, 0, 1]\n",
    "Partition([6,4,4,2,1]).to_exp(7) # [1, 1, 0, 2, 0, 1, 0]\n",
    "Partition([6,4,4,2,1]).to_exp(10) # [1, 1, 0, 2, 0, 1, 0, 0, 0, 0]\n",
    "\n",
    "# We can get the (zero-based!) coordinates of the corners of a partition:\n",
    "Partition([4,3,1]).corners() # [(0, 3), (1, 2), (2, 0)]\n",
    "\n",
    "Partition([2,1]).content(1,0) # -1\n",
    "p = Partition([3,2])\n",
    "sum([p.content(*c) for c in p.cells()]) # 2\n",
    "\n",
    "# return the 3-residue of a cell\n",
    "Partition([2,1]).content(1,0, multicharge=[IntegerModRing(3)(0)]) # 2\n",
    "\n",
    "Partition([2,1]).contents_tableau() # [[0, 1], [-1]]\n",
    "Partition([3,2,1,1]).contents_tableau().pp() \n",
    "# 0  1  2\n",
    "#-1  0\n",
    "#-2\n",
    "#-3\n",
    "Partition([3,2,1,1]).contents_tableau([ IntegerModRing(3)(0)] ).pp()\n",
    "#0  1  2\n",
    "#2  0\n",
    "#1\n",
    "#0"
   ]
  },
  {
   "cell_type": "markdown",
   "metadata": {},
   "source": [
    "### Aside: Constructing partitions through parents\n",
    "Given an instance of the `Partitions` class, elements of it can be constructed using the following methods: e.g.\n",
    "- `Partitions()(list(mu))`\n",
    "- `Partitions().from_beta_numbers(beta)`\n",
    "- `Partitions().from_exp(exp)`\n",
    "- `Partitions().from_frobenius_coordinates(frobenius_coordinates)`\n",
    "- `Partitions().from_zero_one(seq)`\n",
    "- `Partitions().from_core_and_quotient(core, quotient)`\n",
    "\n",
    "### Methods\n",
    "#### Conversion\n",
    "- `to_exp(l)` pads with extra zeroes if $l > \\text{max_part(self)}$; `to_exp_dict()`\n",
    "- `to_list()`\n",
    "- `frobenius_coordinates()`\n",
    "- `beta_numbers(length=None) `\n",
    "- `core(k)`, `quotient(k)`\n",
    "- `to_dyck_word(n=None)` - Dyck path encoding is {N:1, E:0}, opposite to `zero_one_sequence()`\n",
    "- `zero_one_sequence()` - {N:0, E:1} path encoding\n",
    "\n",
    "#### Categorical, comparison\n",
    "- `parent()`\n",
    "- `category()`\n",
    "- `up_list()`, `down_list()`\n",
    "- `dominates(p)`\n",
    "- `dominated_partitions(rows=None)`\n",
    "- `contains(p)`\n",
    "- `is_empty()`\n",
    "- `is_core(k)`\n",
    "- `is_regular(e)`\n",
    "- `is_restricted(l)` - A partition is $l$-restricted iff $p[i] - p[i+1] < l$ for all $i$, equivalently $p[i+1] - p[i] > -l$ for all $i$, i.e. $l$-restricted is the same as min_slope > $-l$\n",
    "- `larger_lex(p)`\n",
    "\n",
    "Statistics\n",
    "- `get_part(n)` returns $0$ if $n > \\text{length(self)}$\n",
    "- `size()`, `length()`\n",
    "- `arm_length(i,j)`, `leg_length(i,j)`, `hook_length(i,j)`\n",
    "- `arms_legs_coeff(i, j)`\n",
    "- `frobenius_rank()`\n",
    "- `content(r, c, multicharge=(0, ))` - returns $c - r$ with residue option\n",
    "- `residue(r, c, l)` returns $c - r \\ (\\mathrm{mod}\\ l)$\n",
    "\n",
    "Cells\n",
    "- `cells()`\n",
    "- `corners() = inside_corners() = removable_cells()` (for compatibility with partition tuples)\n",
    "- `outside_corners() = addable_cells()` - also known as cocorners\n",
    "- `corners_residue(i, l) = removable_cells_residue(i, l) = inside_corners_residue(i, l)`\n",
    "- `outside_corners_residue(i, l) = addable_cells_residue(i, l)`\n",
    "- `arm_cells(i,j)`, `leg_cells(i,j)`\n",
    "- `rim()` (i.e. inner/border rim of cells), `outer_rim()`\n",
    "\n",
    "Transformation\n",
    "- `conjugate()`\n",
    "- `add_cell(i, j=None)`, `remove_cell(i, j=None)` - returns a new partition, does not change `self`\n",
    "- `add_horizontal_border_strip(k)`, `add_vertical_border_strip(k)` returns a list of partitions\n",
    "- `remove_horizontal_border_strip(k)`\n",
    "- `up()`, `down()`, `up_list()`, `down_list()`\n",
    "\n",
    "Tableau\n",
    "- `ferrers_diagram()` - returns string\n",
    "- `pp()` - pretty print Ferrers diagram in English notation\n",
    "- `arm_lengths(flat=False)`, `leg_lengths(flat=False)`, `hook_lengths()`\n",
    "- `contents_tableau(multicharge=(0, ))`\n",
    "\n",
    "Maybe useful\n",
    "- `outline(variable=None)` returns piecewise linear function drawing outline in Russian notation - could be used for drawing\n",
    "- `attacking_pairs()` I wonder about the applications\n",
    "- `block(e, multicharge=(0,))` related to cores and quotients; $e$ is the modulus\n",
    "- `defect(e, multicharge=(0, ))` related to quotients, uses `block`\n",
    "- `dimension(smaller=[], k=1)` related to cores and quotients\n",
    "- `cell_poset(orientation='SE')` returns a poset, applications to abacus?\n",
    "\n",
    "Probably irrelevant - Representation theory, etc.\n",
    "- `atom()` I don't really understand what this does - related to tableau\n",
    "- `centralizer_size(t=0,q=0) = aut(t=0,q=0)`\n",
    "- `character_polynomial()`\n",
    "- `conjugacy_class_size()`\n",
    "- `crank()`\n",
    "- `degree(e)`\n",
    "- `dual_equivalence_graph(directed=False, coloring=None)`\n",
    "- `evaluation()` same as `to_exp()`\n",
    "- `from_kbounded_to_grassmannian(k)`\n",
    "- `garnir_tableau(*cell)`"
   ]
  },
  {
   "cell_type": "code",
   "execution_count": null,
   "metadata": {},
   "outputs": [],
   "source": [
    "p = Partition([5, 2])\n",
    "for row in p.contents_tableau():\n",
    "    print(row)\n",
    "p.to_dyck_word()"
   ]
  },
  {
   "cell_type": "code",
   "execution_count": null,
   "metadata": {},
   "outputs": [],
   "source": [
    "latex(Partition([5, 2]))"
   ]
  },
  {
   "cell_type": "markdown",
   "metadata": {},
   "source": [
    "### The `Partitions` Class - Sets/categories of partitions satisfying some (or none) criteria\n",
    "\n",
    "`Partitions()` returns the combinatorial class of integer partitions (with no restrictions).<br>\n",
    "`Partitions(n, **kwargs)` returns the combinatorial class of integer partitions of $n$ subject to the constraints given by the keywords.<br>\n",
    "Valid keywords are: ``starting``, ``ending``, ``min_part``, ``max_part``, ``max_length``, ``min_length``, ``length``, ``max_slope``, ``min_slope``, ``inner``, ``outer``, ``parts_in``, ``regular``, and ``restricted``.\n",
    "\n",
    "\n",
    "- ``starting=p`` specifies that the partitions should all be less than or equal to the partition $p$ in lex order. This argument cannot be combined with any other.\n",
    "- ``ending=p`` specifies that the partitions should all be greater than or equal to the partition $p$ in lex order. This argument cannot be combined with any other.\n",
    "- ``length=k`` specifies that the partitions have exactly $k$ parts.\n",
    "- ``min_length=k`` specifies that the partitions have at least $k$ parts.\n",
    "- ``min_part=k`` specifies that all parts of the partitions are at least $k$.\n",
    "- ``inner=p`` specifies that the partitions must contain the partition $p$.\n",
    "- ``outer=p`` specifies that the partitions be contained inside the partition $p$.\n",
    "- ``min_slope=k`` specifies that the partitions have slope at least $k$; the slope at position $i$ is the difference between the $(i+1)$-th part and the $i$-th part.\n",
    "- ``parts_in=S`` specifies that the partitions have parts in the set $S$, which can be any sequence of pairwise distinct positive integers. This argument cannot be combined with any other.\n",
    "- ``regular=ell`` specifies that the partitions are $\\ell$-regular, and can only be combined with the ``max_length`` or  ``max_part``, but not both, keywords if $n$ is not specified\n",
    "- ``restricted=ell`` specifies that the partitions are $\\ell$-restricted, and cannot be combined with any other keywords\n",
    "\n",
    "The ``max_*`` versions, along with ``inner`` and ``ending``, work analogously.<br/>\n",
    "Right now, the ``parts_in``, ``starting``, ``ending``, ``regular``, and ``restricted`` keyword arguments are mutually exclusive, both of each other and of other keyword arguments. If you specify, say, ``parts_in``, all other keyword arguments will be ignored; ``starting``, ``ending``, ``regular``, and ``restricted`` work the same way.\n",
    "\n",
    "Examples: <br>\n",
    "`Partitions(4).list()` <br>\n",
    "`Partitions(4, outer=[oo,1,1]).list()` <br>\n",
    "`Partitions(11,min_slope=-3,max_slope=-1,min_length=2,max_length=4).list()`\n",
    "\n",
    "#### Methods\n",
    "- `cardinality()`\n",
    "- `list()`\n",
    "- `next(p)`\n",
    "\n",
    "```python\n",
    "Partitions(4).cardinality()\n",
    "Partitions(4).first()\n",
    "Partitions(4).next([4])\n",
    "Partitions(4).next([1,1,1,1]) is None # True\n",
    "g = iter(Partitions(4))\n",
    "next(g)\n",
    "```"
   ]
  },
  {
   "cell_type": "code",
   "execution_count": null,
   "metadata": {},
   "outputs": [],
   "source": []
  }
 ],
 "metadata": {
  "kernelspec": {
   "display_name": "SageMath 9.0",
   "language": "sage",
   "name": "sagemath"
  },
  "language_info": {
   "codemirror_mode": {
    "name": "ipython",
    "version": 3
   },
   "file_extension": ".py",
   "mimetype": "text/x-python",
   "name": "python",
   "nbconvert_exporter": "python",
   "pygments_lexer": "ipython3",
   "version": "3.7.3"
  },
  "toc": {
   "base_numbering": 1,
   "nav_menu": {},
   "number_sections": true,
   "sideBar": true,
   "skip_h1_title": false,
   "title_cell": "Table of Contents",
   "title_sidebar": "Contents",
   "toc_cell": false,
   "toc_position": {},
   "toc_section_display": true,
   "toc_window_display": false
  },
  "varInspector": {
   "cols": {
    "lenName": 16,
    "lenType": 16,
    "lenVar": 40
   },
   "kernels_config": {
    "python": {
     "delete_cmd_postfix": "",
     "delete_cmd_prefix": "del ",
     "library": "var_list.py",
     "varRefreshCmd": "print(var_dic_list())"
    },
    "r": {
     "delete_cmd_postfix": ") ",
     "delete_cmd_prefix": "rm(",
     "library": "var_list.r",
     "varRefreshCmd": "cat(var_dic_list()) "
    }
   },
   "types_to_exclude": [
    "module",
    "function",
    "builtin_function_or_method",
    "instance",
    "_Feature"
   ],
   "window_display": false
  }
 },
 "nbformat": 4,
 "nbformat_minor": 2
}
